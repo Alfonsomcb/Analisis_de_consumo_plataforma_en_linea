{
 "cells": [
  {
   "cell_type": "markdown",
   "id": "a394574f-c074-404b-a37c-d08dcdbf9d20",
   "metadata": {},
   "source": [
    "-----"
   ]
  },
  {
   "cell_type": "markdown",
   "id": "mhIvmmkW414q",
   "metadata": {
    "id": "mhIvmmkW414q"
   },
   "source": [
    "# Introducción\n",
    "\n",
    "Instacart es una plataforma de entregas de comestibles donde la clientela puede registrar un pedido y hacer que se lo entreguen, similar a Uber Eats y Door Dash.\n",
    "El conjunto de datos que te hemos proporcionado tiene modificaciones del original. Redujimos el tamaño del conjunto para que tus cálculos se hicieran más rápido e introdujimos valores ausentes y duplicados. Tuvimos cuidado de conservar las distribuciones de los datos originales cuando hicimos los cambios.\n",
    "\n",
    "Debes completar tres pasos. Para cada uno de ellos, escribe una breve introducción que refleje con claridad cómo pretendes resolver cada paso, y escribe párrafos explicatorios que justifiquen tus decisiones al tiempo que avanzas en tu solución.  También escribe una conclusión que resuma tus hallazgos y elecciones.\n"
   ]
  },
  {
   "cell_type": "markdown",
   "id": "3MbyzpOQZ5Or",
   "metadata": {
    "id": "3MbyzpOQZ5Or"
   },
   "source": [
    "## Diccionario de datos\n",
    "\n",
    "Hay cinco tablas en el conjunto de datos, y tendrás que usarlas todas para hacer el preprocesamiento de datos y el análisis exploratorio de datos. A continuación se muestra un diccionario de datos que enumera las columnas de cada tabla y describe los datos que contienen.\n",
    "\n",
    "- `instacart_orders.csv`: cada fila corresponde a un pedido en la aplicación Instacart.\n",
    "    - `'order_id'`: número de ID que identifica de manera única cada pedido.\n",
    "    - `'user_id'`: número de ID que identifica de manera única la cuenta de cada cliente.\n",
    "    - `'order_number'`: el número de veces que este cliente ha hecho un pedido.\n",
    "    - `'order_dow'`: día de la semana en que se hizo el pedido (0 si es domingo).\n",
    "    - `'order_hour_of_day'`: hora del día en que se hizo el pedido.\n",
    "    - `'days_since_prior_order'`: número de días transcurridos desde que este cliente hizo su pedido anterior.\n",
    "- `products.csv`: cada fila corresponde a un producto único que pueden comprar los clientes.\n",
    "    - `'product_id'`: número ID que identifica de manera única cada producto.\n",
    "    - `'product_name'`: nombre del producto.\n",
    "    - `'aisle_id'`: número ID que identifica de manera única cada categoría de pasillo de víveres.\n",
    "    - `'department_id'`: número ID que identifica de manera única cada departamento de víveres.\n",
    "- `order_products.csv`: cada fila corresponde a un artículo pedido en un pedido.\n",
    "    - `'order_id'`: número de ID que identifica de manera única cada pedido.\n",
    "    - `'product_id'`: número ID que identifica de manera única cada producto.\n",
    "    - `'add_to_cart_order'`: el orden secuencial en el que se añadió cada artículo en el carrito.\n",
    "    - `'reordered'`: 0 si el cliente nunca ha pedido este producto antes, 1 si lo ha pedido.\n",
    "- `aisles.csv`\n",
    "    - `'aisle_id'`: número ID que identifica de manera única cada categoría de pasillo de víveres.\n",
    "    - `'aisle'`: nombre del pasillo.\n",
    "- `departments.csv`\n",
    "    - `'department_id'`: número ID que identifica de manera única cada departamento de víveres.\n",
    "    - `'department'`: nombre del departamento."
   ]
  },
  {
   "cell_type": "markdown",
   "id": "n3Ha_cNSZ8lK",
   "metadata": {
    "id": "n3Ha_cNSZ8lK"
   },
   "source": [
    "# Paso 1. Descripción de los datos\n",
    "\n"
   ]
  },
  {
   "cell_type": "markdown",
   "id": "OmlQPLlyaAfR",
   "metadata": {
    "id": "OmlQPLlyaAfR"
   },
   "source": [
    "## Plan de solución\n",
    "\n",
    "Escribe aquí tu plan de solución para el Paso 1. Descripción de los datos.\n",
    "\n",
    "al momento de revisar la información de los df me di cuenta que estaban separados por ; en vez de , por lo que procedí a utilizar (sep=\";\") y así ya poder tener la información en el formato correcto."
   ]
  },
  {
   "cell_type": "code",
   "execution_count": 1,
   "id": "fbf1adab",
   "metadata": {
    "id": "fbf1adab"
   },
   "outputs": [],
   "source": [
    "# importar librerías\n",
    "import pandas as pd\n",
    "import numpy as np\n",
    "from matplotlib import pyplot as plt"
   ]
  },
  {
   "cell_type": "code",
   "execution_count": null,
   "id": "ad36396d",
   "metadata": {
    "id": "ad36396d"
   },
   "outputs": [],
   "source": [
    "# leer conjuntos de datos en los DataFrames\n",
    "iodf=pd.read_csv(\"instacart_orders.csv\",sep=\";\")\n",
    "pdf=pd.read_csv(\"products.csv\",sep=\";\")\n",
    "opdf=pd.read_csv(\"order_products.csv\",sep=\";\")\n",
    "adf=pd.read_csv(\"aisles.csv\",sep=\";\")\n",
    "ddf=pd.read_csv(\"departments.csv\",sep=\";\")"
   ]
  },
  {
   "cell_type": "code",
   "execution_count": 3,
   "id": "ad6a1efa",
   "metadata": {
    "id": "ad6a1efa"
   },
   "outputs": [
    {
     "name": "stdout",
     "output_type": "stream",
     "text": [
      "<class 'pandas.core.frame.DataFrame'>\n",
      "RangeIndex: 478967 entries, 0 to 478966\n",
      "Data columns (total 6 columns):\n",
      " #   Column                  Non-Null Count   Dtype  \n",
      "---  ------                  --------------   -----  \n",
      " 0   order_id                478967 non-null  int64  \n",
      " 1   user_id                 478967 non-null  int64  \n",
      " 2   order_number            478967 non-null  int64  \n",
      " 3   order_dow               478967 non-null  int64  \n",
      " 4   order_hour_of_day       478967 non-null  int64  \n",
      " 5   days_since_prior_order  450148 non-null  float64\n",
      "dtypes: float64(1), int64(5)\n",
      "memory usage: 21.9 MB\n",
      "None\n",
      "\n",
      "\n",
      "--------Filas------\n",
      "\n",
      "\n",
      "   order_id  user_id  order_number  order_dow  order_hour_of_day  \\\n",
      "0   1515936   183418            11          6                 13   \n",
      "1   1690866   163593             5          5                 12   \n",
      "2   1454967    39980             4          5                 19   \n",
      "3   1768857    82516            56          0                 20   \n",
      "4   3007858   196724             2          4                 12   \n",
      "\n",
      "   days_since_prior_order  \n",
      "0                    30.0  \n",
      "1                     9.0  \n",
      "2                     2.0  \n",
      "3                    10.0  \n",
      "4                    17.0  \n"
     ]
    }
   ],
   "source": [
    "# mostrar información del DataFrame\n",
    "print(iodf.info())\n",
    "print(\"\\n\")\n",
    "print(\"--------Filas------\")\n",
    "print(\"\\n\")\n",
    "print(iodf.head())"
   ]
  },
  {
   "cell_type": "code",
   "execution_count": 4,
   "id": "5130e05e",
   "metadata": {
    "id": "5130e05e"
   },
   "outputs": [
    {
     "name": "stdout",
     "output_type": "stream",
     "text": [
      "<class 'pandas.core.frame.DataFrame'>\n",
      "RangeIndex: 49694 entries, 0 to 49693\n",
      "Data columns (total 4 columns):\n",
      " #   Column         Non-Null Count  Dtype \n",
      "---  ------         --------------  ----- \n",
      " 0   product_id     49694 non-null  int64 \n",
      " 1   product_name   48436 non-null  object\n",
      " 2   aisle_id       49694 non-null  int64 \n",
      " 3   department_id  49694 non-null  int64 \n",
      "dtypes: int64(3), object(1)\n",
      "memory usage: 1.5+ MB\n",
      "None\n",
      "\n",
      "\n",
      "--------Filas------\n",
      "\n",
      "\n",
      "   product_id                                       product_name  aisle_id  \\\n",
      "0           1                         Chocolate Sandwich Cookies        61   \n",
      "1           2                                   All-Seasons Salt       104   \n",
      "2           3               Robust Golden Unsweetened Oolong Tea        94   \n",
      "3           4  Smart Ones Classic Favorites Mini Rigatoni Wit...        38   \n",
      "4           5                          Green Chile Anytime Sauce         5   \n",
      "\n",
      "   department_id  \n",
      "0             19  \n",
      "1             13  \n",
      "2              7  \n",
      "3              1  \n",
      "4             13  \n"
     ]
    }
   ],
   "source": [
    "# mostrar información del DataFrame\n",
    "print(pdf.info())\n",
    "print(\"\\n\")\n",
    "print(\"--------Filas------\")\n",
    "print(\"\\n\")\n",
    "print(pdf.head())"
   ]
  },
  {
   "cell_type": "code",
   "execution_count": 5,
   "id": "d8370c05",
   "metadata": {
    "id": "d8370c05"
   },
   "outputs": [
    {
     "name": "stdout",
     "output_type": "stream",
     "text": [
      "<class 'pandas.core.frame.DataFrame'>\n",
      "RangeIndex: 4545007 entries, 0 to 4545006\n",
      "Data columns (total 4 columns):\n",
      " #   Column             Dtype  \n",
      "---  ------             -----  \n",
      " 0   order_id           int64  \n",
      " 1   product_id         int64  \n",
      " 2   add_to_cart_order  float64\n",
      " 3   reordered          int64  \n",
      "dtypes: float64(1), int64(3)\n",
      "memory usage: 138.7 MB\n",
      "None\n",
      "\n",
      "\n",
      "--------Filas------\n",
      "\n",
      "\n",
      "   order_id  product_id  add_to_cart_order  reordered\n",
      "0   2141543       11440               17.0          0\n",
      "1    567889        1560                1.0          1\n",
      "2   2261212       26683                1.0          1\n",
      "3    491251        8670               35.0          1\n",
      "4   2571142        1940                5.0          1\n"
     ]
    }
   ],
   "source": [
    "# mostrar información del DataFrame\n",
    "print(opdf.info())\n",
    "print(\"\\n\")\n",
    "print(\"--------Filas------\")\n",
    "print(\"\\n\")\n",
    "print(opdf.head())"
   ]
  },
  {
   "cell_type": "code",
   "execution_count": 6,
   "id": "59e2090f",
   "metadata": {
    "id": "59e2090f"
   },
   "outputs": [
    {
     "name": "stdout",
     "output_type": "stream",
     "text": [
      "<class 'pandas.core.frame.DataFrame'>\n",
      "RangeIndex: 134 entries, 0 to 133\n",
      "Data columns (total 2 columns):\n",
      " #   Column    Non-Null Count  Dtype \n",
      "---  ------    --------------  ----- \n",
      " 0   aisle_id  134 non-null    int64 \n",
      " 1   aisle     134 non-null    object\n",
      "dtypes: int64(1), object(1)\n",
      "memory usage: 2.2+ KB\n",
      "None\n",
      "\n",
      "\n",
      "--------Filas------\n",
      "\n",
      "\n",
      "   aisle_id                       aisle\n",
      "0         1       prepared soups salads\n",
      "1         2           specialty cheeses\n",
      "2         3         energy granola bars\n",
      "3         4               instant foods\n",
      "4         5  marinades meat preparation\n"
     ]
    }
   ],
   "source": [
    "# mostrar información del DataFrame\n",
    "print(adf.info())\n",
    "print(\"\\n\")\n",
    "print(\"--------Filas------\")\n",
    "print(\"\\n\")\n",
    "print(adf.head())"
   ]
  },
  {
   "cell_type": "code",
   "execution_count": 7,
   "id": "6fc81694",
   "metadata": {
    "id": "6fc81694"
   },
   "outputs": [
    {
     "name": "stdout",
     "output_type": "stream",
     "text": [
      "<class 'pandas.core.frame.DataFrame'>\n",
      "RangeIndex: 21 entries, 0 to 20\n",
      "Data columns (total 2 columns):\n",
      " #   Column         Non-Null Count  Dtype \n",
      "---  ------         --------------  ----- \n",
      " 0   department_id  21 non-null     int64 \n",
      " 1   department     21 non-null     object\n",
      "dtypes: int64(1), object(1)\n",
      "memory usage: 464.0+ bytes\n",
      "None\n",
      "\n",
      "\n",
      "--------Filas------\n",
      "\n",
      "\n",
      "   department_id department\n",
      "0              1     frozen\n",
      "1              2      other\n",
      "2              3     bakery\n",
      "3              4    produce\n",
      "4              5    alcohol\n"
     ]
    }
   ],
   "source": [
    "# mostrar información del DataFrame\n",
    "print(ddf.info())\n",
    "print(\"\\n\")\n",
    "print(\"--------Filas------\")\n",
    "print(\"\\n\")\n",
    "print(ddf.head())"
   ]
  },
  {
   "cell_type": "code",
   "execution_count": null,
   "id": "4933c49d-afe1-4835-9d12-ebd575edc203",
   "metadata": {},
   "outputs": [],
   "source": []
  },
  {
   "cell_type": "markdown",
   "id": "t75BD19oaR5f",
   "metadata": {
    "id": "t75BD19oaR5f"
   },
   "source": [
    "## Conclusiones\n",
    "\n",
    "Escribe aquí tus conclusiones intermedias sobre el Paso 1. Descripción de los datos.\n",
    "\n",
    "Los df principales son \"instacart_orders\" y order_poducts\". Los demás sirven como información complementaria al análisis."
   ]
  },
  {
   "cell_type": "markdown",
   "id": "8RJHqxVmaVsF",
   "metadata": {
    "id": "8RJHqxVmaVsF"
   },
   "source": [
    "# Paso 2. Preprocesamiento de los datos\n",
    "\n",
    "Preprocesa los datos de la siguiente manera:\n",
    "\n",
    "- Verifica y corrige los tipos de datos (por ejemplo, asegúrate de que las columnas de ID sean números enteros).\n",
    "- Identifica y completa los valores ausentes.\n",
    "- Identifica y elimina los valores duplicados.\n",
    "\n",
    "Asegúrate de explicar qué tipos de valores ausentes y duplicados encontraste, cómo los completaste o eliminaste y por qué usaste esos métodos. ¿Por qué crees que estos valores ausentes y duplicados pueden haber estado presentes en el conjunto de datos?"
   ]
  },
  {
   "cell_type": "markdown",
   "id": "p6poABZQaZYb",
   "metadata": {
    "id": "p6poABZQaZYb"
   },
   "source": [
    "## Plan de solución\n",
    "\n",
    "Escribe aquí tu plan para el Paso 2. Preprocesamiento de los datos.\n",
    "\n",
    "1.- Revisar si existen datos duplicados.\n",
    "2.- Corroborar que no se necesiten estos datos en el df\n",
    "3.- Eliminamos duplicados una vez se revisen.\n",
    "4.- Comprobamos que se hayan eliminado."
   ]
  },
  {
   "cell_type": "markdown",
   "id": "07357848-dc64-4156-9cc3-01ff4365226d",
   "metadata": {
    "id": "07357848-dc64-4156-9cc3-01ff4365226d"
   },
   "source": [
    "## Encuentra y elimina los valores duplicados (y describe cómo tomaste tus decisiones)."
   ]
  },
  {
   "cell_type": "markdown",
   "id": "f179f0a9",
   "metadata": {
    "id": "f179f0a9"
   },
   "source": [
    "### `orders` data frame"
   ]
  },
  {
   "cell_type": "raw",
   "id": "74c975ed-b62c-402e-9223-5586a2abada4",
   "metadata": {
    "id": "b99297a5-405a-463d-8535-9adc3da4ad74"
   },
   "source": []
  },
  {
   "cell_type": "code",
   "execution_count": 8,
   "id": "cb06e2f6-3154-416a-9214-dc2a12642700",
   "metadata": {},
   "outputs": [
    {
     "name": "stdout",
     "output_type": "stream",
     "text": [
      "<class 'pandas.core.frame.DataFrame'>\n",
      "RangeIndex: 478967 entries, 0 to 478966\n",
      "Data columns (total 6 columns):\n",
      " #   Column                  Non-Null Count   Dtype  \n",
      "---  ------                  --------------   -----  \n",
      " 0   order_id                478967 non-null  int64  \n",
      " 1   user_id                 478967 non-null  int64  \n",
      " 2   order_number            478967 non-null  int64  \n",
      " 3   order_dow               478967 non-null  int64  \n",
      " 4   order_hour_of_day       478967 non-null  int64  \n",
      " 5   days_since_prior_order  450148 non-null  float64\n",
      "dtypes: float64(1), int64(5)\n",
      "memory usage: 21.9 MB\n",
      "None\n"
     ]
    }
   ],
   "source": [
    "#Borré los nulos por error y los regresé\n",
    "\n",
    "iodf['days_since_prior_order'] = iodf['days_since_prior_order'].replace(\"Na\", np.nan)\n",
    "\n",
    "print(iodf.info())"
   ]
  },
  {
   "cell_type": "code",
   "execution_count": 9,
   "id": "f6a248e3-5140-4d6c-8027-986ee6c2643d",
   "metadata": {},
   "outputs": [
    {
     "name": "stdout",
     "output_type": "stream",
     "text": [
      "15\n"
     ]
    }
   ],
   "source": [
    "# Revisa si hay pedidos duplicados\n",
    "print(iodf[\"order_id\"].duplicated().sum())\n"
   ]
  },
  {
   "cell_type": "markdown",
   "id": "PEkwUX_gvt5A",
   "metadata": {
    "id": "PEkwUX_gvt5A"
   },
   "source": [
    "¿Tienes líneas duplicadas? Si sí, ¿qué tienen en común? \n",
    "\n",
    "Aparecen como duplicadas y tienen en comun el dia y hora"
   ]
  },
  {
   "cell_type": "code",
   "execution_count": 10,
   "id": "0d44de5d",
   "metadata": {
    "id": "0d44de5d"
   },
   "outputs": [
    {
     "name": "stdout",
     "output_type": "stream",
     "text": [
      "        order_id  user_id  order_number  order_dow  order_hour_of_day  \\\n",
      "4838     2766110   162084            41          3                  2   \n",
      "5156     2190225   138285            18          3                  2   \n",
      "15506     553049    58599            13          3                  2   \n",
      "18420     382357   120200            19          3                  2   \n",
      "24691     690242    77357             2          3                  2   \n",
      "...          ...      ...           ...        ...                ...   \n",
      "457013   3384021    14881             6          3                  2   \n",
      "458816    910166   164782            18          3                  2   \n",
      "459635   1680532   106435             6          3                  2   \n",
      "468324    222962    54979            59          3                  2   \n",
      "477526   2592344    46860            38          3                  2   \n",
      "\n",
      "        days_since_prior_order  \n",
      "4838                      16.0  \n",
      "5156                      11.0  \n",
      "15506                      7.0  \n",
      "18420                     11.0  \n",
      "24691                      9.0  \n",
      "...                        ...  \n",
      "457013                    30.0  \n",
      "458816                     4.0  \n",
      "459635                    21.0  \n",
      "468324                     3.0  \n",
      "477526                     3.0  \n",
      "\n",
      "[121 rows x 6 columns]\n",
      "3    121\n",
      "Name: order_dow, dtype: int64\n",
      "2    121\n",
      "Name: order_hour_of_day, dtype: int64\n"
     ]
    }
   ],
   "source": [
    "# Basándote en tus hallazgos,\n",
    "# Verifica todos los pedidos que se hicieron el miércoles a las 2:00 a.m.\n",
    "pm2=iodf.query(\"order_dow==3 and order_hour_of_day==2\")\n",
    "print(pm2)\n",
    "print(pm2[\"order_dow\"].value_counts())\n",
    "print(pm2[\"order_hour_of_day\"].value_counts())"
   ]
  },
  {
   "cell_type": "markdown",
   "id": "vu2OWyoqwOx5",
   "metadata": {
    "id": "vu2OWyoqwOx5"
   },
   "source": [
    "¿Qué sugiere este resultado?\n",
    "\n",
    "que no hay error en relacion al dia y la hora dsel miercoles a las 2"
   ]
  },
  {
   "cell_type": "code",
   "execution_count": 11,
   "id": "480563c7",
   "metadata": {
    "id": "480563c7"
   },
   "outputs": [],
   "source": [
    "# Elimina los pedidos duplicados\n",
    "iodf=iodf.drop_duplicates(subset=\"order_id\").reset_index(drop=True)\n"
   ]
  },
  {
   "cell_type": "code",
   "execution_count": 12,
   "id": "0b2396a2",
   "metadata": {
    "id": "0b2396a2"
   },
   "outputs": [
    {
     "name": "stdout",
     "output_type": "stream",
     "text": [
      "0\n"
     ]
    }
   ],
   "source": [
    "# Vuelve a verificar si hay filas duplicadas\n",
    "print(iodf.duplicated().sum())"
   ]
  },
  {
   "cell_type": "code",
   "execution_count": 13,
   "id": "f6113ef1",
   "metadata": {
    "id": "f6113ef1"
   },
   "outputs": [
    {
     "name": "stdout",
     "output_type": "stream",
     "text": [
      "0\n"
     ]
    }
   ],
   "source": [
    "# Vuelve a verificar únicamente si hay IDs duplicados de pedidos\n",
    "print(iodf[\"order_id\"].duplicated().sum())"
   ]
  },
  {
   "cell_type": "markdown",
   "id": "5e8905ae",
   "metadata": {
    "id": "5e8905ae"
   },
   "source": [
    "Describe brevemente tus hallazgos y lo que hiciste con ellos\n",
    "\n",
    "Encontré unos valores duplicados en el df solamente los eliminé"
   ]
  },
  {
   "cell_type": "markdown",
   "id": "45e6bc46",
   "metadata": {
    "id": "45e6bc46"
   },
   "source": [
    "### `products` data frame"
   ]
  },
  {
   "cell_type": "code",
   "execution_count": 14,
   "id": "5f526b5b-8175-46fa-a0fd-441767d50e64",
   "metadata": {
    "id": "5f526b5b-8175-46fa-a0fd-441767d50e64"
   },
   "outputs": [
    {
     "name": "stdout",
     "output_type": "stream",
     "text": [
      "0\n"
     ]
    }
   ],
   "source": [
    "# Verifica si hay filas totalmente duplicadas\n",
    "print(pdf.duplicated().sum())"
   ]
  },
  {
   "cell_type": "code",
   "execution_count": 15,
   "id": "88daa4f4",
   "metadata": {
    "id": "88daa4f4"
   },
   "outputs": [
    {
     "name": "stdout",
     "output_type": "stream",
     "text": [
      "0\n"
     ]
    }
   ],
   "source": [
    "# Revisa únicamente si hay ID de productos duplicados\n",
    "print(pdf[\"product_id\"].duplicated().sum())"
   ]
  },
  {
   "cell_type": "code",
   "execution_count": 16,
   "id": "c773f0bf",
   "metadata": {
    "id": "c773f0bf"
   },
   "outputs": [
    {
     "name": "stdout",
     "output_type": "stream",
     "text": [
      "1361\n"
     ]
    }
   ],
   "source": [
    "# Revisa únicamente si hay nombres duplicados de productos (convierte los nombres a letras mayúsculas para compararlos mejor)\n",
    "pdf[\"product_name\"]=pdf[\"product_name\"].str.upper()\n",
    "print(pdf[\"product_name\"].duplicated().sum())"
   ]
  },
  {
   "cell_type": "code",
   "execution_count": 17,
   "id": "01efd02e",
   "metadata": {
    "id": "01efd02e"
   },
   "outputs": [
    {
     "name": "stdout",
     "output_type": "stream",
     "text": [
      "GREEN TEA WITH GINSENG AND HONEY                            3\n",
      "CAULIFLOWER HEAD                                            2\n",
      "GENTLE AND PREDICTABLE OVERNIGHT RELIEF LAXATIVE TABLETS    2\n",
      "CREAM OF TARTAR                                             2\n",
      "DRINKING WATER                                              2\n",
      "                                                           ..\n",
      "FAMILY SIZE LASAGNA WITH MEAT & SAUCE                       2\n",
      "ORIGINAL POTATO CHIPS                                       2\n",
      "CHOPPED GARLIC IN WATER                                     2\n",
      "COOKIES 'N CREAM ICE CREAM                                  2\n",
      "CHILI WITH BEANS                                            2\n",
      "Name: product_name, Length: 103, dtype: int64\n"
     ]
    }
   ],
   "source": [
    "# Revisa si hay nombres duplicados de productos no faltantes\n",
    "#voy a aplicar dos filtros.\n",
    "    #solo muestro los valores que estén duplicados y que no sean nulos\n",
    "\n",
    "#ya había reemplazado los valores nulos por unknown abajo antes de realzar este porque no le habia entendido a lo que pedian.\n",
    "pdf_nonull_dup = pdf[(pdf[\"product_name\"] != \"Unknown\") & (pdf.duplicated(subset=\"product_name\", keep=False))]\n",
    "print(pdf_nonull_dup[\"product_name\"].value_counts().sort_values(ascending=False))\n"
   ]
  },
  {
   "cell_type": "markdown",
   "id": "9da8d293",
   "metadata": {
    "id": "9da8d293"
   },
   "source": [
    "Describe brevemente tus hallazgos y lo que hiciste con ellos.\n",
    "\n",
    "Identifique que había valores duplicados en la columna de product_name sin embargo no me siento seguo de eliminarlos por si en otro df cita el product_id de este.\n",
    "supongo que puede ser por uin error de sistema o humano al momentoi de dar productos de alta y sobreescribir la información en vez de revisar primero si ese producto ya está registrado."
   ]
  },
  {
   "cell_type": "markdown",
   "id": "60f30db1",
   "metadata": {
    "id": "60f30db1"
   },
   "source": [
    "### `departments` data frame"
   ]
  },
  {
   "cell_type": "code",
   "execution_count": 18,
   "id": "fb410ad4-0fbf-4b80-bb09-23fdea79afe3",
   "metadata": {
    "id": "fb410ad4-0fbf-4b80-bb09-23fdea79afe3"
   },
   "outputs": [
    {
     "name": "stdout",
     "output_type": "stream",
     "text": [
      "0\n"
     ]
    }
   ],
   "source": [
    "# Revisa si hay filas totalmente duplicadas\n",
    "print(ddf.duplicated().sum())"
   ]
  },
  {
   "cell_type": "code",
   "execution_count": 19,
   "id": "332b12bb",
   "metadata": {
    "id": "332b12bb"
   },
   "outputs": [
    {
     "name": "stdout",
     "output_type": "stream",
     "text": [
      "0\n",
      "0\n"
     ]
    }
   ],
   "source": [
    "# Revisa únicamente si hay IDs duplicadas de departamentos\n",
    "print(ddf[\"department_id\"].duplicated().sum())\n",
    "print(ddf[\"department\"].duplicated().sum())"
   ]
  },
  {
   "cell_type": "markdown",
   "id": "bd30d78e",
   "metadata": {
    "id": "bd30d78e"
   },
   "source": [
    "Describe brevemente tus hallazgos y lo que hiciste con ellos.\n",
    "\n",
    "Nada, no había datos dupllicados"
   ]
  },
  {
   "cell_type": "markdown",
   "id": "889349c1",
   "metadata": {
    "id": "889349c1"
   },
   "source": [
    "### `aisles` data frame"
   ]
  },
  {
   "cell_type": "code",
   "execution_count": 20,
   "id": "9da89fb9-4679-40f5-ad0d-c34df753a3f8",
   "metadata": {
    "id": "9da89fb9-4679-40f5-ad0d-c34df753a3f8"
   },
   "outputs": [
    {
     "name": "stdout",
     "output_type": "stream",
     "text": [
      "0\n"
     ]
    }
   ],
   "source": [
    "# Revisa si hay filas totalmente duplicadas\n",
    "print(adf.duplicated().sum())"
   ]
  },
  {
   "cell_type": "code",
   "execution_count": 21,
   "id": "da7c2822",
   "metadata": {
    "id": "da7c2822"
   },
   "outputs": [
    {
     "name": "stdout",
     "output_type": "stream",
     "text": [
      "0\n"
     ]
    }
   ],
   "source": [
    "# Revisa únicamente si hay IDs duplicadas de pasillos\n",
    "adf[\"aisle\"]=adf[\"aisle\"].str.upper()\n",
    "print(adf[\"aisle\"].duplicated().sum())"
   ]
  },
  {
   "cell_type": "markdown",
   "id": "ac63826f",
   "metadata": {
    "id": "ac63826f"
   },
   "source": [
    "Describe brevemente tus hallazgos y lo que hiciste con ellos.\n",
    "\n",
    "Convertí la columna de aisle en mayusculas para ver si habia valores duplicados pero no hay., así que no haré nada"
   ]
  },
  {
   "cell_type": "markdown",
   "id": "274cd06a",
   "metadata": {
    "id": "274cd06a"
   },
   "source": [
    "### `order_products` data frame"
   ]
  },
  {
   "cell_type": "code",
   "execution_count": 22,
   "id": "52326689-84a8-4b8f-a881-7c68780f62c9",
   "metadata": {
    "id": "52326689-84a8-4b8f-a881-7c68780f62c9"
   },
   "outputs": [
    {
     "name": "stdout",
     "output_type": "stream",
     "text": [
      "0\n"
     ]
    }
   ],
   "source": [
    "# Revisa si hay filas totalmente duplicadas\n",
    "print(opdf.duplicated().sum())"
   ]
  },
  {
   "cell_type": "code",
   "execution_count": 23,
   "id": "7b861391",
   "metadata": {
    "id": "7b861391"
   },
   "outputs": [
    {
     "name": "stdout",
     "output_type": "stream",
     "text": [
      "<class 'pandas.core.frame.DataFrame'>\n",
      "RangeIndex: 4545007 entries, 0 to 4545006\n",
      "Data columns (total 4 columns):\n",
      " #   Column             Dtype  \n",
      "---  ------             -----  \n",
      " 0   order_id           int64  \n",
      " 1   product_id         int64  \n",
      " 2   add_to_cart_order  float64\n",
      " 3   reordered          int64  \n",
      "dtypes: float64(1), int64(3)\n",
      "memory usage: 138.7 MB\n",
      "None\n",
      "    order_id  product_id  add_to_cart_order  reordered\n",
      "0    2141543       11440               17.0          0\n",
      "1     567889        1560                1.0          1\n",
      "2    2261212       26683                1.0          1\n",
      "3     491251        8670               35.0          1\n",
      "4    2571142        1940                5.0          1\n",
      "5    2456893       21616                4.0          1\n",
      "6     644579       12341                5.0          1\n",
      "7    2231852       44925               10.0          1\n",
      "8    3185766       36259               14.0          1\n",
      "9     420019       23315                4.0          1\n",
      "10    925051        9421                2.0          1\n",
      "11     44064       22963               28.0          0\n",
      "12    522547       40571               10.0          1\n",
      "13   2475670       48520                3.0          0\n",
      "14   1961225       37553                1.0          1\n",
      "15   2397389        4321               16.0          1\n",
      "16    639939       10017                1.0          1\n",
      "17   1721072       24561                8.0          1\n",
      "18     89640       46692                7.0          0\n",
      "19   2500729       21616                5.0          1\n",
      "20   1687771       22963                5.0          1\n",
      "21   2905625       26209                2.0          0\n",
      "22   1482958       45603                6.0          1\n",
      "23    750040        8518                1.0          0\n",
      "24   2022887       28169                4.0          0\n",
      "25   1046178       26620                2.0          0\n",
      "26    623027       13176                3.0          1\n",
      "27   2907647       21903                9.0          1\n",
      "28   2492383       11005               16.0          0\n",
      "29    773308       37029               15.0          0\n",
      "30   2070264       21872                9.0          0\n",
      "31     60394       25659                4.0          1\n",
      "32   1597793        5460                7.0          1\n",
      "33   2291457       27104                1.0          1\n",
      "34   2966829       31005               22.0          0\n",
      "35   1118439       27307                7.0          0\n",
      "36   2183879       12576                3.0          1\n",
      "37    941691       30391                3.0          0\n",
      "38   2343489       19820               17.0          0\n",
      "39    217120       28985                4.0          0\n",
      "40    631150       23139                9.0          0\n",
      "41   2669937       42562                2.0          1\n",
      "42   1805081        8590                4.0          0\n",
      "43   3075384       28799                1.0          1\n",
      "44   1446879       41682                9.0          1\n",
      "45   1787676       47672                1.0          1\n",
      "46   3283409         920                9.0          1\n",
      "47   1270550       40199                5.0          1\n",
      "48   1943147       47626               22.0          1\n",
      "49   1898003       47766                7.0          1\n"
     ]
    }
   ],
   "source": [
    "# Vuelve a verificar si hay cualquier otro duplicado engañoso\n",
    "print(opdf.info())\n",
    "print(opdf.head(50))"
   ]
  },
  {
   "cell_type": "markdown",
   "id": "0b890492",
   "metadata": {
    "id": "0b890492"
   },
   "source": [
    "Describe brevemente tus hallazgos y lo que hiciste con ellos.\n",
    "\n",
    "No encontré nada sospechoso"
   ]
  },
  {
   "cell_type": "markdown",
   "id": "1e46de76",
   "metadata": {
    "id": "1e46de76"
   },
   "source": [
    "## Encuentra y elimina los valores ausentes\n",
    "\n",
    "Al trabajar con valores duplicados, pudimos observar que también nos falta investigar valores ausentes:\n",
    "\n",
    "* La columna `'product_name'` de la tabla products.\n",
    "* La columna `'days_since_prior_order'` de la tabla orders.\n",
    "* La columna `'add_to_cart_order'` de la tabla order_productos."
   ]
  },
  {
   "cell_type": "markdown",
   "id": "c0aebd78",
   "metadata": {
    "id": "c0aebd78"
   },
   "source": [
    "### `products` data frame"
   ]
  },
  {
   "cell_type": "code",
   "execution_count": 24,
   "id": "fe4a8b0f",
   "metadata": {
    "id": "fe4a8b0f"
   },
   "outputs": [
    {
     "name": "stdout",
     "output_type": "stream",
     "text": [
      "1258\n"
     ]
    }
   ],
   "source": [
    "# Encuentra los valores ausentes en la columna 'product_name'\n",
    "print(pdf[\"product_name\"].isna().sum())"
   ]
  },
  {
   "cell_type": "markdown",
   "id": "-A6x1AbJhjkp",
   "metadata": {
    "id": "-A6x1AbJhjkp"
   },
   "source": [
    "Describe brevemente cuáles son tus hallazgos.\n",
    "existen 1258 filas donde no se le asigno un valor en la columna \"product_name\""
   ]
  },
  {
   "cell_type": "code",
   "execution_count": 25,
   "id": "e96167bc",
   "metadata": {
    "id": "e96167bc"
   },
   "outputs": [
    {
     "name": "stdout",
     "output_type": "stream",
     "text": [
      "[100]\n"
     ]
    }
   ],
   "source": [
    "#  ¿Todos los nombres de productos ausentes están relacionados con el pasillo con ID 100?\n",
    "pdf_pn_null=pdf[pdf[\"product_name\"].isnull()]\n",
    "\n",
    "print(pdf_pn_null[\"aisle_id\"].unique())"
   ]
  },
  {
   "cell_type": "markdown",
   "id": "WRpIfXRphpSL",
   "metadata": {
    "id": "WRpIfXRphpSL"
   },
   "source": [
    "Describe brevemente cuáles son tus hallazgos.\n",
    "\n",
    "Si, todos los valores NaN que se tienen en la columna \"product_name\" corresponden al \"aisle_id\" 100"
   ]
  },
  {
   "cell_type": "code",
   "execution_count": 26,
   "id": "8fd0a541",
   "metadata": {
    "id": "8fd0a541"
   },
   "outputs": [
    {
     "name": "stdout",
     "output_type": "stream",
     "text": [
      "[21]\n"
     ]
    }
   ],
   "source": [
    "# ¿Todos los nombres de productos ausentes están relacionados con el departamento con ID 21?\n",
    "print(pdf_pn_null[\"department_id\"].unique())"
   ]
  },
  {
   "cell_type": "markdown",
   "id": "qDpdYn1Fht_I",
   "metadata": {
    "id": "qDpdYn1Fht_I"
   },
   "source": [
    "Describe brevemente cuáles son tus hallazgos.\n",
    "\n",
    "Si, los valores nulos de \"product_name\" están relacionacionados exclusivamente con el dpto 21"
   ]
  },
  {
   "cell_type": "code",
   "execution_count": 27,
   "id": "325c3464",
   "metadata": {
    "id": "325c3464"
   },
   "outputs": [
    {
     "name": "stdout",
     "output_type": "stream",
     "text": [
      "    aisle_id    aisle\n",
      "99       100  MISSING\n",
      "    department_id department\n",
      "20             21    missing\n",
      "\n",
      "\n",
      "     product_id product_name  aisle_id  department_id\n",
      "37           38          NaN       100             21\n",
      "71           72          NaN       100             21\n",
      "109         110          NaN       100             21\n",
      "296         297          NaN       100             21\n",
      "416         417          NaN       100             21\n"
     ]
    }
   ],
   "source": [
    "# Usa las tablas department y aisle para revisar los datos del pasillo con ID 100 y el departamento con ID 21.\n",
    "print(adf.query(\"aisle_id==100\"))\n",
    "print(ddf.query(\"department_id==21\"))\n",
    "print(\"\\n\")\n",
    "print(pdf_pn_null.head())"
   ]
  },
  {
   "cell_type": "markdown",
   "id": "nqhSTUPhhvEJ",
   "metadata": {
    "id": "nqhSTUPhhvEJ"
   },
   "source": [
    "Describe brevemente cuáles son tus hallazgos.\n",
    "los valores Nulos de product_name están así porque no existe un nombre asignado en aisle ni en dpto. Quedaría pendiente si tienen actividad en las ventas o si son datos rezagados."
   ]
  },
  {
   "cell_type": "code",
   "execution_count": 28,
   "id": "6b295120",
   "metadata": {
    "id": "6b295120"
   },
   "outputs": [
    {
     "name": "stdout",
     "output_type": "stream",
     "text": [
      "<class 'pandas.core.frame.DataFrame'>\n",
      "RangeIndex: 49694 entries, 0 to 49693\n",
      "Data columns (total 4 columns):\n",
      " #   Column         Non-Null Count  Dtype \n",
      "---  ------         --------------  ----- \n",
      " 0   product_id     49694 non-null  int64 \n",
      " 1   product_name   49694 non-null  object\n",
      " 2   aisle_id       49694 non-null  int64 \n",
      " 3   department_id  49694 non-null  int64 \n",
      "dtypes: int64(3), object(1)\n",
      "memory usage: 1.5+ MB\n",
      "None\n"
     ]
    }
   ],
   "source": [
    "# Completa los nombres de productos ausentes con 'Unknown'\n",
    "pdf[\"product_name\"].fillna(\"Unknown\",inplace=True)\n",
    "print(pdf.info())"
   ]
  },
  {
   "cell_type": "markdown",
   "id": "fc70e5ad",
   "metadata": {
    "id": "fc70e5ad"
   },
   "source": [
    "Describe brevemente tus hallazgos y lo que hiciste con ellos.\n",
    "\n",
    "Para continuar con la forma en la que se manejaron los dastos se decidió cambiar el valor de los nulos a \"Unknown\" para poder tener la informacióon de una manera estandarizada"
   ]
  },
  {
   "cell_type": "markdown",
   "id": "7eb45c86",
   "metadata": {
    "id": "7eb45c86"
   },
   "source": [
    "### `orders` data frame"
   ]
  },
  {
   "cell_type": "code",
   "execution_count": 29,
   "id": "93e41d96",
   "metadata": {
    "id": "93e41d96"
   },
   "outputs": [
    {
     "name": "stdout",
     "output_type": "stream",
     "text": [
      "order_id                      0\n",
      "user_id                       0\n",
      "order_number                  0\n",
      "order_dow                     0\n",
      "order_hour_of_day             0\n",
      "days_since_prior_order    28817\n",
      "dtype: int64\n"
     ]
    }
   ],
   "source": [
    "# Encuentra los valores ausentes\n",
    "print(iodf.isna().sum())\n",
    "master_orders=iodf.merge(opdf,on=\"order_id\",how=\"left\")\n",
    "\n"
   ]
  },
  {
   "cell_type": "code",
   "execution_count": 30,
   "id": "fe72980e-04e6-472b-ad42-52560c43d475",
   "metadata": {},
   "outputs": [
    {
     "name": "stdout",
     "output_type": "stream",
     "text": [
      "1    28817\n",
      "Name: order_number, dtype: int64\n"
     ]
    }
   ],
   "source": [
    "iodf_null=iodf[iodf[\"days_since_prior_order\"].isnull()]\n",
    "print(iodf_null[\"order_number\"].value_counts())"
   ]
  },
  {
   "cell_type": "markdown",
   "id": "4e23d089",
   "metadata": {
    "id": "4e23d089"
   },
   "source": [
    "Describe brevemente tus hallazgos y lo que hiciste con ellos.\n",
    "\n",
    "Las filas donde la columna days_since_prior_order tiene valor nulo corresponde exclusivamente a las primeras ordenes de los usuarios por lo que se entiende dicho valor."
   ]
  },
  {
   "cell_type": "markdown",
   "id": "69dc9ca4",
   "metadata": {
    "id": "69dc9ca4"
   },
   "source": [
    "### `order_products` data frame"
   ]
  },
  {
   "cell_type": "code",
   "execution_count": 31,
   "id": "b8240253",
   "metadata": {
    "id": "b8240253"
   },
   "outputs": [
    {
     "name": "stdout",
     "output_type": "stream",
     "text": [
      "order_id               0\n",
      "product_id             0\n",
      "add_to_cart_order    836\n",
      "reordered              0\n",
      "dtype: int64\n"
     ]
    }
   ],
   "source": [
    "# Encuentra los valores ausentes\n",
    "print(opdf.isna().sum())"
   ]
  },
  {
   "cell_type": "code",
   "execution_count": 32,
   "id": "9a78e5ee",
   "metadata": {
    "id": "9a78e5ee"
   },
   "outputs": [
    {
     "name": "stdout",
     "output_type": "stream",
     "text": [
      "Minimo: 1.0\n",
      "Maximo: 64.0\n"
     ]
    }
   ],
   "source": [
    "# ¿Cuáles son los valores mínimos y máximos en esta columna?\n",
    "print(\"Minimo:\",opdf[\"add_to_cart_order\"].min())\n",
    "print(\"Maximo:\",opdf[\"add_to_cart_order\"].max())\n",
    "\n"
   ]
  },
  {
   "cell_type": "markdown",
   "id": "-Z2Ja215jW78",
   "metadata": {
    "id": "-Z2Ja215jW78"
   },
   "source": [
    "Describe brevemente cuáles son tus hallazgos.\n",
    "\n",
    "El valor maximo de unidades de un carrito es de 64"
   ]
  },
  {
   "cell_type": "code",
   "execution_count": 33,
   "id": "ab9d0c2b",
   "metadata": {
    "id": "ab9d0c2b"
   },
   "outputs": [
    {
     "name": "stdout",
     "output_type": "stream",
     "text": [
      "737        2449164\n",
      "9926       1968313\n",
      "14394      2926893\n",
      "16418      1717990\n",
      "30114      1959075\n",
      "            ...   \n",
      "4505662    1800005\n",
      "4511400    1633337\n",
      "4517562     404157\n",
      "4534112    1673227\n",
      "4535739    1832957\n",
      "Name: order_id, Length: 836, dtype: int64\n"
     ]
    }
   ],
   "source": [
    "# Guarda todas las IDs de pedidos que tengan un valor ausente en 'add_to_cart_order'\n",
    "opdf_null=opdf[opdf[\"add_to_cart_order\"].isnull()]\n",
    "print(opdf_null[\"order_id\"])"
   ]
  },
  {
   "cell_type": "code",
   "execution_count": 34,
   "id": "54c31695",
   "metadata": {
    "id": "54c31695"
   },
   "outputs": [
    {
     "name": "stdout",
     "output_type": "stream",
     "text": [
      "1\n",
      "________________\n",
      "order_id\n",
      "9310        1\n",
      "747668      1\n",
      "1598369     1\n",
      "1677118     1\n",
      "2170451     1\n",
      "           ..\n",
      "1959075    34\n",
      "171934     40\n",
      "2136777    44\n",
      "3308010    51\n",
      "61355      63\n",
      "Name: product_id, Length: 70, dtype: int64\n"
     ]
    }
   ],
   "source": [
    "# ¿Todos los pedidos con valores ausentes tienen más de 64 productos? No\n",
    "# Agrupa todos los pedidos con datos ausentes por su ID de pedido.\n",
    "# Cuenta el número de 'product_id' en cada pedido y revisa el valor mínimo del conteo.\n",
    "\n",
    "opdf_null_g=opdf_null.groupby(\"order_id\")[\"product_id\"].count()\n",
    "print(opdf_null_g.min())\n",
    "print(\"________________\")\n",
    "print(opdf_null_g.sort_values(ascending=True))\n"
   ]
  },
  {
   "cell_type": "markdown",
   "id": "p9V6pddtjglj",
   "metadata": {
    "id": "p9V6pddtjglj"
   },
   "source": [
    "Describe brevemente cuáles son tus hallazgos.\n",
    "\n",
    "Al parecer puede haber un error en el sistema donde no se registra el orden en el que se añadel al carrito un producto. ya que despues de analizar el numero de productos por orden nos podemos dar cuenta que está variado y que no e spor un supuesto limite de 64 "
   ]
  },
  {
   "cell_type": "code",
   "execution_count": 35,
   "id": "7a987d08",
   "metadata": {
    "id": "7a987d08"
   },
   "outputs": [
    {
     "name": "stdout",
     "output_type": "stream",
     "text": [
      "<class 'pandas.core.frame.DataFrame'>\n",
      "RangeIndex: 4545007 entries, 0 to 4545006\n",
      "Data columns (total 4 columns):\n",
      " #   Column             Dtype\n",
      "---  ------             -----\n",
      " 0   order_id           int64\n",
      " 1   product_id         int64\n",
      " 2   add_to_cart_order  int64\n",
      " 3   reordered          int64\n",
      "dtypes: int64(4)\n",
      "memory usage: 138.7 MB\n",
      "None\n",
      "\n",
      "\n",
      "order_id             0\n",
      "product_id           0\n",
      "add_to_cart_order    0\n",
      "reordered            0\n",
      "dtype: int64\n"
     ]
    }
   ],
   "source": [
    "# Remplaza los valores ausentes en la columna 'add_to_cart? con 999 y convierte la columna al tipo entero.\n",
    "opdf[\"add_to_cart_order\"].fillna(999,inplace=True)\n",
    "\n",
    "opdf[\"add_to_cart_order\"]=opdf[\"add_to_cart_order\"].astype(int)\n",
    "print(opdf.info())\n",
    "print(\"\\n\")\n",
    "print(opdf.isna().sum())"
   ]
  },
  {
   "cell_type": "markdown",
   "id": "fea4bcc7",
   "metadata": {
    "id": "fea4bcc7"
   },
   "source": [
    "Describe brevemente tus hallazgos y lo que hiciste con ellos."
   ]
  },
  {
   "cell_type": "markdown",
   "id": "RnplPFY1gSrb",
   "metadata": {
    "id": "RnplPFY1gSrb"
   },
   "source": [
    "## Conclusiones\n",
    "\n",
    "Escribe aquí tus conclusiones intermedias sobre el Paso 2. Preprocesamiento de los datos\n",
    "\n",
    "Me gustó mucho. Es muy importante poder entender el impacto que los datos duplicados y ausentes tienene dentro de un analisis y poder limpíar la información resulta escencial antes de poder llegar a conclusiones.\n"
   ]
  },
  {
   "cell_type": "markdown",
   "id": "UjrOIwTcz3ri",
   "metadata": {
    "id": "UjrOIwTcz3ri"
   },
   "source": [
    "# Paso 3. Análisis de los datos\n",
    "\n",
    "Una vez los datos estén procesados y listos, haz el siguiente análisis:"
   ]
  },
  {
   "cell_type": "markdown",
   "id": "turkish-kidney",
   "metadata": {
    "id": "turkish-kidney"
   },
   "source": [
    "# [A] Fácil (deben completarse todos para aprobar)\n",
    "\n",
    "1. Verifica que los valores en las columnas `'order_hour_of_day'` y `'order_dow'` en la tabla orders sean razonables (es decir, `'order_hour_of_day'` oscile entre 0 y 23 y `'order_dow'` oscile entre 0 y 6).\n",
    "2. Crea un gráfico que muestre el número de personas que hacen pedidos dependiendo de la hora del día.\n",
    "3. Crea un gráfico que muestre qué día de la semana la gente hace sus compras.\n",
    "4. Crea un gráfico que muestre el tiempo que la gente espera hasta hacer su siguiente pedido, y comenta sobre los valores mínimos y máximos."
   ]
  },
  {
   "cell_type": "markdown",
   "id": "short-capability",
   "metadata": {
    "id": "short-capability"
   },
   "source": [
    "### [A1] Verifica que los valores sean sensibles"
   ]
  },
  {
   "cell_type": "code",
   "execution_count": 36,
   "id": "growing-fruit",
   "metadata": {
    "id": "growing-fruit"
   },
   "outputs": [
    {
     "name": "stdout",
     "output_type": "stream",
     "text": [
      "Hour  Orders\n",
      "0     3180      1\n",
      "1     1763      1\n",
      "2     989       1\n",
      "3     770       1\n",
      "4     765       1\n",
      "5     1371      1\n",
      "6     4215      1\n",
      "7     13043     1\n",
      "8     25024     1\n",
      "9     35896     1\n",
      "10    40578     1\n",
      "11    40032     1\n",
      "12    38034     1\n",
      "13    39007     1\n",
      "14    39631     1\n",
      "15    39789     1\n",
      "16    38112     1\n",
      "17    31930     1\n",
      "18    25510     1\n",
      "19    19547     1\n",
      "20    14624     1\n",
      "21    11019     1\n",
      "22    8512      1\n",
      "23    5611      1\n",
      "dtype: int64\n"
     ]
    },
    {
     "data": {
      "image/png": "[encoded data removed]",
      "text/plain": [
       "<Figure size 640x480 with 1 Axes>"
      ]
     },
     "metadata": {},
     "output_type": "display_data"
    }
   ],
   "source": [
    "iodfg=iodf.groupby(\"order_hour_of_day\")[\"order_id\"].count()\n",
    "iodfg=iodfg.reset_index()\n",
    "iodfg.columns=[\"Hour\",\"Orders\"]\n",
    "print(iodfg.value_counts().sort_index())\n",
    "\n",
    "iodfg.plot(title=\"Hour of day\",\n",
    "         x=\"Hour\",\n",
    "         y=\"Orders\",\n",
    "         kind=\"bar\",\n",
    "         xlabel=\"Hour\",\n",
    "         ylabel=\"orders\",\n",
    "          rot=45)\n",
    "plt.show()\n"
   ]
  },
  {
   "cell_type": "markdown",
   "id": "hmR2GNQ6lCsX",
   "metadata": {
    "id": "hmR2GNQ6lCsX"
   },
   "source": [
    "Escribe aquí tus conclusiones\n",
    "\n",
    "La columna de 'order_hour_of_day' tiene los valores correctos.las horas pico de consumo estan entre 9 y 3pm"
   ]
  },
  {
   "cell_type": "markdown",
   "id": "a6743a70",
   "metadata": {
    "id": "a6743a70"
   },
   "source": [
    "### [A2] Para cada hora del día, ¿cuántas personas hacen órdenes?"
   ]
  },
  {
   "cell_type": "code",
   "execution_count": 37,
   "id": "a36cca27",
   "metadata": {
    "id": "a36cca27"
   },
   "outputs": [
    {
     "name": "stdout",
     "output_type": "stream",
     "text": [
      "Hour  Users\n",
      "0     3180     1\n",
      "1     1763     1\n",
      "2     989      1\n",
      "3     770      1\n",
      "4     765      1\n",
      "5     1371     1\n",
      "6     4215     1\n",
      "7     13043    1\n",
      "8     25024    1\n",
      "9     35896    1\n",
      "10    40578    1\n",
      "11    40032    1\n",
      "12    38034    1\n",
      "13    39007    1\n",
      "14    39631    1\n",
      "15    39789    1\n",
      "16    38112    1\n",
      "17    31930    1\n",
      "18    25510    1\n",
      "19    19547    1\n",
      "20    14624    1\n",
      "21    11019    1\n",
      "22    8512     1\n",
      "23    5611     1\n",
      "dtype: int64\n"
     ]
    },
    {
     "data": {
      "image/png": "[encoded data removed]",
      "text/plain": [
       "<Figure size 640x480 with 1 Axes>"
      ]
     },
     "metadata": {},
     "output_type": "display_data"
    }
   ],
   "source": [
    "iodfg2=iodf.groupby(\"order_hour_of_day\")[\"user_id\"].count()\n",
    "iodfg2=iodfg2.reset_index()\n",
    "iodfg2.columns=[\"Hour\",\"Users\"]\n",
    "print(iodfg2.value_counts().sort_index())\n",
    "\n",
    "iodfg2.plot(title=\"Hour of day\",\n",
    "         x=\"Hour\",\n",
    "         y=\"Users\",\n",
    "         kind=\"bar\",\n",
    "         xlabel=\"Hour\",\n",
    "         ylabel=\"users\",\n",
    "          rot=45)\n",
    "plt.show()"
   ]
  },
  {
   "cell_type": "markdown",
   "id": "11270eed",
   "metadata": {
    "id": "11270eed"
   },
   "source": [
    "Escribe aquí tus conclusiones\n",
    "\n",
    "La hora con mayor número de usuarios realizando ordenes es las 9am."
   ]
  },
  {
   "cell_type": "markdown",
   "id": "documented-command",
   "metadata": {
    "id": "documented-command"
   },
   "source": [
    "### [A3] ¿Qué día de la semana compran víveres las personas?"
   ]
  },
  {
   "cell_type": "code",
   "execution_count": 38,
   "id": "ed82e55d-bd4b-417d-ae35-0c1c76d08372",
   "metadata": {},
   "outputs": [
    {
     "name": "stdout",
     "output_type": "stream",
     "text": [
      "Day  Orders\n",
      "0    84090     1\n",
      "1    82185     1\n",
      "2    65833     1\n",
      "3    60897     1\n",
      "4    59810     1\n",
      "5    63488     1\n",
      "6    62649     1\n",
      "dtype: int64\n"
     ]
    },
    {
     "data": {
      "image/png": "[encoded data removed]",
      "text/plain": [
       "<Figure size 640x480 with 1 Axes>"
      ]
     },
     "metadata": {},
     "output_type": "display_data"
    }
   ],
   "source": [
    "iodfg3=iodf.groupby(\"order_dow\")[\"order_id\"].count()\n",
    "iodfg3=iodfg3.reset_index()\n",
    "iodfg3.columns=[\"Day\",\"Orders\"]\n",
    "print(iodfg3.value_counts().sort_index())\n",
    "\n",
    "iodfg3.plot(title=\"Day of week\",\n",
    "         x=\"Day\",\n",
    "         y=\"Orders\",\n",
    "         kind=\"bar\",\n",
    "         xlabel=\"Day\",\n",
    "         ylabel=\"Orders\",\n",
    "          rot=45)\n",
    "plt.show()"
   ]
  },
  {
   "cell_type": "markdown",
   "id": "dominant-lightning",
   "metadata": {
    "id": "dominant-lightning"
   },
   "source": [
    "Escribe aquí tus conclusiones\n",
    "El domingo es el día de la semana con mas ordenes realizadas, sin embargo los dás a lo largo de la semana parecen tener un volumen similar de transacciones."
   ]
  },
  {
   "cell_type": "markdown",
   "id": "cutting-concert",
   "metadata": {
    "id": "cutting-concert"
   },
   "source": [
    "### [A4] ¿Cuánto tiempo esperan las personas hasta hacer otro pedido? Comenta sobre los valores mínimos y máximos."
   ]
  },
  {
   "cell_type": "code",
   "execution_count": 39,
   "id": "c231f523",
   "metadata": {
    "id": "c231f523"
   },
   "outputs": [
    {
     "name": "stdout",
     "output_type": "stream",
     "text": [
      "dias promedio  11.1\n",
      "maximo de dias  30.0\n",
      "minimo de dias  0.0\n"
     ]
    }
   ],
   "source": [
    "avg_dspo=iodf[\"days_since_prior_order\"].mean()\n",
    "max_dspo=iodf[\"days_since_prior_order\"].max()\n",
    "min_dspo=iodf[\"days_since_prior_order\"].min()\n",
    "print(\"dias promedio \",avg_dspo.round(2))\n",
    "print(\"maximo de dias \",max_dspo)\n",
    "print(\"minimo de dias \",min_dspo)"
   ]
  },
  {
   "cell_type": "code",
   "execution_count": 65,
   "id": "0a996022-9b6a-44ee-8280-929974335407",
   "metadata": {},
   "outputs": [
    {
     "data": {
      "text/plain": [
       "<AxesSubplot:title={'center':'Días desde la ultima compra'}, xlabel='días', ylabel='frecuencia'>"
      ]
     },
     "execution_count": 65,
     "metadata": {},
     "output_type": "execute_result"
    },
    {
     "data": {
      "image/png": "[encoded data removed]",
      "text/plain": [
       "<Figure size 640x480 with 1 Axes>"
      ]
     },
     "metadata": {},
     "output_type": "display_data"
    }
   ],
   "source": [
    "iodf_days=iodf.groupby(\"days_since_prior_order\")[\"days_since_prior_order\"].count()\n",
    "\n",
    "iodf_days.plot(title=\"Días desde la ultima compra\",\n",
    "               kind=\"bar\",\n",
    "              xlabel=\"días\",\n",
    "              ylabel=\"frecuencia\",\n",
    "              rot=60)"
   ]
  },
  {
   "cell_type": "markdown",
   "id": "discrete-vertex",
   "metadata": {
    "id": "discrete-vertex"
   },
   "source": [
    "podemos ver gracias a la grafica de barras un pico en los días desde la ultima orden donde tenemos una alta tasa de recompra para 3 días seguida de 7 días lo que nos indica un comportamiento de hábitos de consumo por parte de los usuarios"
   ]
  },
  {
   "cell_type": "markdown",
   "id": "tight-staff",
   "metadata": {
    "id": "tight-staff"
   },
   "source": [
    "# [B] Intermedio (deben completarse todos para aprobar)\n",
    "\n",
    "1. ¿Existe alguna diferencia entre las distribuciones `'order_hour_of_day'` de los miércoles y los sábados? Traza gráficos de barra de `'order_hour_of_day'` para ambos días en la misma figura y describe las diferencias que observes.\n",
    "2. Grafica la distribución para el número de órdenes que hacen los clientes (es decir, cuántos clientes hicieron solo 1 pedido, cuántos hicieron 2, cuántos 3, y así sucesivamente...).\n",
    "3. ¿Cuáles son los 20 principales productos que se piden con más frecuencia (muestra su identificación y nombre)?"
   ]
  },
  {
   "cell_type": "markdown",
   "id": "packed-classic",
   "metadata": {
    "id": "packed-classic"
   },
   "source": [
    "### [B1] Diferencia entre miércoles y sábados para  `'order_hour_of_day'`. Traza gráficos de barra para los dos días y describe las diferencias que veas."
   ]
  },
  {
   "cell_type": "code",
   "execution_count": 41,
   "id": "d89b8403",
   "metadata": {
    "id": "d89b8403"
   },
   "outputs": [
    {
     "data": {
      "image/png": "[encoded data removed]",
      "text/plain": [
       "<Figure size 640x480 with 1 Axes>"
      ]
     },
     "metadata": {},
     "output_type": "display_data"
    }
   ],
   "source": [
    "iodfm=iodf.query(\"order_dow==3\")\n",
    "iodfmh=iodfm.groupby(\"order_hour_of_day\")[\"order_id\"].count()\n",
    "iodfmh=iodfmh.reset_index()\n",
    "iodfmh.columns=[\"hour\",\"orders_miercoles\"]\n",
    "\n",
    "iodfs=iodf.query(\"order_dow==6\")\n",
    "iodfsh=iodfs.groupby(\"order_hour_of_day\")[\"order_id\"].count()\n",
    "iodfsh=iodfsh.reset_index()\n",
    "iodfsh.columns=[\"hour\",\"orders_sabado\"]\n",
    "\n",
    "iodfdh=iodfmh.merge(iodfsh,\n",
    "                   on=\"hour\",\n",
    "                   suffixes=(\"1\",\"2\"))\n",
    "cols=[\"orders_miercoles\",\"orders_sabado\"]\n",
    "iodfdh.plot(title=\"Ordenes miercoles vs sabado\",\n",
    "           x=\"hour\",\n",
    "           y=cols,\n",
    "           kind=\"bar\",\n",
    "            rot=50,\n",
    "            ylabel=\"Numero de ordenes\"\n",
    "           )\n",
    "plt.show()\n"
   ]
  },
  {
   "cell_type": "markdown",
   "id": "21441947-0439-4c7c-ab67-044b32419669",
   "metadata": {},
   "source": [
    " \"\"\"Podemos ver que los dos días tienen un comportamiento similar sin embargo durante las horas 11-15 es cuando más diferencia hay teniendo un numero mayor de ordenes durante los dias sabado\"\"\""
   ]
  },
  {
   "cell_type": "markdown",
   "id": "charitable-congo",
   "metadata": {
    "id": "charitable-congo"
   },
   "source": [
    "Escribe aquí tus conclusiones"
   ]
  },
  {
   "cell_type": "markdown",
   "id": "e3891143",
   "metadata": {
    "id": "e3891143"
   },
   "source": [
    "### [B2] ¿Cuál es la distribución para el número de pedidos por cliente?"
   ]
  },
  {
   "cell_type": "code",
   "execution_count": 43,
   "id": "d8c26c23",
   "metadata": {
    "id": "d8c26c23"
   },
   "outputs": [
    {
     "name": "stdout",
     "output_type": "stream",
     "text": [
      "    numero_ordenes  numero_usuarios\n",
      "0                1            55357\n",
      "1                2            36508\n",
      "2                3            21547\n",
      "3                4            13498\n",
      "4                5             8777\n",
      "5                6             6012\n",
      "6                7             4240\n",
      "7                8             3019\n",
      "8                9             2152\n",
      "9               10             1645\n",
      "10              11             1308\n",
      "11              12              947\n",
      "12              13              703\n",
      "13              14              512\n",
      "14              15              437\n",
      "15              16              263\n",
      "16              17              184\n",
      "17              18              121\n",
      "18              19               85\n",
      "19              20               52\n",
      "20              21               22\n",
      "21              22               23\n",
      "22              23               19\n",
      "23              24                3\n",
      "24              25                1\n",
      "25              26                1\n",
      "26              28                1\n"
     ]
    }
   ],
   "source": [
    "iodf_p=iodf.groupby(\"user_id\")[\"order_id\"].count()\n",
    "iodf_p=iodf_p.reset_index()\n",
    "iodf_p.columns=[\"user_id\",\"numero_ordenes\"]\n",
    "\n",
    "iodf_p2=iodf_p.groupby(\"numero_ordenes\")[\"user_id\"].count()\n",
    "iodf_p2=iodf_p2.reset_index()\n",
    "iodf_p2.columns=[\"numero_ordenes\",\"numero_usuarios\"]\n",
    "\n",
    "print(iodf_p2)"
   ]
  },
  {
   "cell_type": "code",
   "execution_count": 44,
   "id": "00e69a66",
   "metadata": {
    "id": "00e69a66"
   },
   "outputs": [
    {
     "data": {
      "image/png": "[encoded data removed]",
      "text/plain": [
       "<Figure size 640x480 with 1 Axes>"
      ]
     },
     "metadata": {},
     "output_type": "display_data"
    }
   ],
   "source": [
    "iodf_p2.plot(title=\"Numero de ordenes por usuario\",\n",
    "            kind=\"bar\",\n",
    "            x=\"numero_ordenes\",\n",
    "            y=\"numero_usuarios\",\n",
    "             xlabel=\"N° de ordenes por usuario\",\n",
    "             ylabel=\"N° de usuarios\",\n",
    "             rot=60\n",
    "            )\n",
    "plt.show()"
   ]
  },
  {
   "cell_type": "markdown",
   "id": "d2eff7d5",
   "metadata": {
    "id": "d2eff7d5"
   },
   "source": [
    "Escribe aquí tus conclusiones\n",
    "\n",
    "La mayoria de los usuarios realizan solo una orden a lo mucho 2. esto nos describe de manera perfecta lo dificil que es mantener clientes y pueden haber dos razones. 1.- han tenido un creicimiento reciente significante o, 2.- hay problemas durante la experiencia de venta que no son del agrado del consumidor"
   ]
  },
  {
   "cell_type": "markdown",
   "id": "54a0319c",
   "metadata": {
    "id": "54a0319c"
   },
   "source": [
    "### [B3] ¿Cuáles son los 20 productos más populares (muestra su ID y nombre)?"
   ]
  },
  {
   "cell_type": "code",
   "execution_count": null,
   "id": "universal-facial",
   "metadata": {
    "id": "universal-facial"
   },
   "outputs": [],
   "source": []
  },
  {
   "cell_type": "code",
   "execution_count": 45,
   "id": "bbcdd20b",
   "metadata": {
    "id": "bbcdd20b"
   },
   "outputs": [
    {
     "name": "stdout",
     "output_type": "stream",
     "text": [
      "    product_id              product_name  numero_ordenes\n",
      "0        24852                    BANANA           66050\n",
      "1        13176    BAG OF ORGANIC BANANAS           53297\n",
      "2        21137      ORGANIC STRAWBERRIES           37039\n",
      "3        21903      ORGANIC BABY SPINACH           33971\n",
      "4        47209      ORGANIC HASS AVOCADO           29773\n",
      "5        47766           ORGANIC AVOCADO           24689\n",
      "6        47626               LARGE LEMON           21495\n",
      "7        16797              STRAWBERRIES           20018\n",
      "8        26209                     LIMES           19690\n",
      "9        27845        ORGANIC WHOLE MILK           19600\n",
      "10       27966       ORGANIC RASPBERRIES           19197\n",
      "11       22935      ORGANIC YELLOW ONION           15898\n",
      "12       24964            ORGANIC GARLIC           15292\n",
      "13       45007          ORGANIC ZUCCHINI           14584\n",
      "14       39275       ORGANIC BLUEBERRIES           13879\n",
      "15       49683            CUCUMBER KIRBY           13675\n",
      "16       28204        ORGANIC FUJI APPLE           12544\n",
      "17        5876             ORGANIC LEMON           12232\n",
      "18        8277  APPLE HONEYCRISP ORGANIC           11993\n",
      "19       40706    ORGANIC GRAPE TOMATOES           11781\n"
     ]
    }
   ],
   "source": [
    "rank_order = opdf[\"product_id\"].value_counts().reset_index()\n",
    "rank_order.columns = [\"product_id\", \"numero_ordenes\"]\n",
    "rank_order_sorted= rank_order.head(20)\n",
    "\n",
    "final_orders=rank_order_sorted.merge(pdf,on=\"product_id\",how=\"left\")\n",
    "final_orders=final_orders.drop([\"aisle_id\",\"department_id\"],axis=1)\n",
    "final_orders=final_orders[['product_id', 'product_name', 'numero_ordenes']]\n",
    "print(final_orders)"
   ]
  },
  {
   "cell_type": "markdown",
   "id": "7df00f47",
   "metadata": {
    "id": "7df00f47"
   },
   "source": [
    "Escribe aquí tus conclusiones\n",
    "\n",
    "podemos darnos cuenta que de la lista de los 20 productos mas vendidos 15 son orgánicos.Esto nos da un perfil del consumidor muy marcado"
   ]
  },
  {
   "cell_type": "markdown",
   "id": "gross-theme",
   "metadata": {
    "id": "gross-theme"
   },
   "source": [
    "# [C] Difícil (deben completarse todos para aprobar)\n",
    "\n",
    "1. ¿Cuántos artículos suelen comprar las personas en un pedido? ¿Cómo es la distribución?\n",
    "2. ¿Cuáles son los 20 principales artículos que vuelven a pedirse con mayor frecuencia (muestra sus nombres e IDs de los productos)?\n",
    "3. Para cada producto, ¿cuál es la tasa de repetición del pedido (número de repeticiones de pedido/total de pedidos?\n",
    "4. Para cada cliente, ¿qué proporción de los productos que pidió ya los había pedido? Calcula la tasa de repetición de pedido para cada usuario en lugar de para cada producto.\n",
    "5. ¿Cuáles son los 20 principales artículos que la gente pone primero en sus carritos (muestra las IDs de los productos, sus nombres, y el número de veces en que fueron el primer artículo en añadirse al carrito)?"
   ]
  },
  {
   "cell_type": "markdown",
   "id": "romantic-deposit",
   "metadata": {
    "id": "romantic-deposit"
   },
   "source": [
    "### [C1] ¿Cuántos artículos compran normalmente las personas en un pedido? ¿Cómo es la distribución?"
   ]
  },
  {
   "cell_type": "code",
   "execution_count": 46,
   "id": "virtual-punch",
   "metadata": {
    "id": "virtual-punch"
   },
   "outputs": [
    {
     "name": "stdout",
     "output_type": "stream",
     "text": [
      "Total ordenes:  478952\n",
      "de las cuales  154543 estan en el top 5\n",
      "representando : 32.0 % del total de ordenes\n",
      "donde el usuario adquirio entre 3 y 7 productos por orden\n"
     ]
    }
   ],
   "source": [
    "#Hago un df dodne junto instacart y order products para poder obtener el numero de  productos por orden\n",
    "mp=iodf.merge(opdf,on=\"order_id\",how=\"left\")\n",
    "#print(mp.info())\n",
    "\n",
    "#Saco la cuenta de cuantos produtos son por orden\n",
    "ppo=mp.groupby(\"order_id\")[\"product_id\"].count()\n",
    "ppo=ppo.reset_index()\n",
    "ppo.columns=[\"order_id\",\"numero_productos\"]\n",
    "\n",
    "#ahora tengo el df con el numero de productos por orden y su frecuencia en el df\n",
    "productos=ppo.groupby(\"numero_productos\")[\"numero_productos\"].count().reset_index(name=\"frecuencia\")\n",
    "productos=productos.sort_values(by=\"frecuencia\",ascending=False)\n",
    "\n",
    "#quise poner el top 5 porque me di cuenta que representan la mayoria de las ordenes\n",
    "top5=productos.head(5)\n",
    "total_top5=top5[\"frecuencia\"].sum()\n",
    "total_ordenes=productos[\"frecuencia\"].sum()\n",
    "porcentaje_top5=((total_top5/total_ordenes).round(2))*100\n",
    "print(\"Total ordenes: \",total_ordenes)\n",
    "print(\"de las cuales \",total_top5,\"estan en el top 5\")\n",
    "print(\"representando :\",porcentaje_top5,\"% del total de ordenes\")\n",
    "print(\"donde el usuario adquirio entre 3 y 7 productos por orden\")\n",
    "\n",
    "#hice un df solamente para la grafica porque la poca frecuencia en el limite mayor del eje x no dejaba representar la congestion en el limite menor del mismo\n",
    "productos_lim=productos.query(\"numero_productos<50 and numero_productos>0\").sort_values(by=\"numero_productos\",ascending=True)\n",
    "\n",
    "\n",
    "\n",
    "\n"
   ]
  },
  {
   "cell_type": "code",
   "execution_count": 47,
   "id": "sensitive-breathing",
   "metadata": {
    "id": "sensitive-breathing"
   },
   "outputs": [
    {
     "data": {
      "text/plain": [
       "<AxesSubplot:title={'center':'Numero de productos por pedido'}, xlabel='numero_productos', ylabel='frecuencia'>"
      ]
     },
     "execution_count": 47,
     "metadata": {},
     "output_type": "execute_result"
    },
    {
     "data": {
      "image/png": "[encoded data removed]",
      "text/plain": [
       "<Figure size 1000x500 with 1 Axes>"
      ]
     },
     "metadata": {},
     "output_type": "display_data"
    }
   ],
   "source": [
    "productos_lim.plot(title=\"Numero de productos por pedido\",\n",
    "    x=\"numero_productos\",\n",
    "              y=\"frecuencia\",\n",
    "              kind=\"bar\",\n",
    "              figsize=[10,5],\n",
    "              rot=60,\n",
    "              xlim=[0,50],\n",
    "                  ylabel=\"frecuencia\")"
   ]
  },
  {
   "cell_type": "markdown",
   "id": "designed-mortality",
   "metadata": {
    "id": "designed-mortality"
   },
   "source": [
    "Escribe aquí tus conclusiones\n",
    "\n",
    "El 32% de las compras incluyeron de 3 a 7 articulos"
   ]
  },
  {
   "cell_type": "markdown",
   "id": "5e6b5537",
   "metadata": {
    "id": "5e6b5537"
   },
   "source": [
    "### [C2] ¿Cuáles son los 20 principales artículos que vuelven a pedirse con mayor frecuencia (muestra sus nombres e IDs de los productos)?"
   ]
  },
  {
   "cell_type": "code",
   "execution_count": 66,
   "id": "9374e55a",
   "metadata": {
    "id": "9374e55a"
   },
   "outputs": [
    {
     "name": "stdout",
     "output_type": "stream",
     "text": [
      "    product_id              product_name  frecuencia\n",
      "0        24852                    BANANA       55763\n",
      "1        13176    BAG OF ORGANIC BANANAS       44450\n",
      "2        21137      ORGANIC STRAWBERRIES       28639\n",
      "3        21903      ORGANIC BABY SPINACH       26233\n",
      "4        47209      ORGANIC HASS AVOCADO       23629\n",
      "5        47766           ORGANIC AVOCADO       18743\n",
      "6        27845        ORGANIC WHOLE MILK       16251\n",
      "7        47626               LARGE LEMON       15044\n",
      "8        27966       ORGANIC RASPBERRIES       14748\n",
      "9        16797              STRAWBERRIES       13945\n",
      "10       26209                     LIMES       13327\n",
      "11       22935      ORGANIC YELLOW ONION       11145\n",
      "12       24964            ORGANIC GARLIC       10411\n",
      "13       45007          ORGANIC ZUCCHINI       10076\n",
      "14       49683            CUCUMBER KIRBY        9538\n",
      "15       28204        ORGANIC FUJI APPLE        8989\n",
      "16        8277  APPLE HONEYCRISP ORGANIC        8836\n",
      "17       39275       ORGANIC BLUEBERRIES        8799\n",
      "18        5876             ORGANIC LEMON        8412\n",
      "19       49235       ORGANIC HALF & HALF        8389\n"
     ]
    }
   ],
   "source": [
    "#filtro el df con solo los valores resultantes a 1 quitando asi las primeras compras\n",
    "opdf_f=opdf.query(\"reordered==1\")\n",
    "\n",
    "#creo el df con dos columnas: 1.- product id y 2.- frecuencia de compra\n",
    "opdf_f_prod=opdf_f.groupby(\"product_id\")[\"product_id\"].count().reset_index(name=\"frecuencia\").sort_values(by=\"frecuencia\",ascending=False).head(20)\n",
    "\n",
    "#consigo el nombre del producto\n",
    "top20=opdf_f_prod.merge(pdf,on=\"product_id\",how=\"left\")\n",
    "top20=top20.drop([\"aisle_id\",\"department_id\"],axis=1)\n",
    "top20=top20[['product_id', 'product_name', 'frecuencia']]\n",
    "\n",
    "\n",
    "\n",
    "print(top20)"
   ]
  },
  {
   "cell_type": "markdown",
   "id": "80e70c74",
   "metadata": {
    "id": "80e70c74"
   },
   "source": [
    "Escribe aquí tus conclusiones\n",
    "\n",
    "se puede ver aqui que seguimos teniendoo 15 productos organicos en la lsita del top20 para ordenes que no son las primeras lo cual reafirma la teoria del perfil de consumidor enfocado a los productos organicos.\n"
   ]
  },
  {
   "cell_type": "markdown",
   "id": "939c7699-f87e-49e2-9dbc-d3b31b9df8a7",
   "metadata": {
    "id": "9d312b14"
   },
   "source": [
    "### [C3] Para cada producto, ¿cuál es la proporción de las veces que se pide y que se vuelve a pedir?"
   ]
  },
  {
   "cell_type": "code",
   "execution_count": 82,
   "id": "fdefce4d-72b9-4014-be49-8c25f6e725fd",
   "metadata": {},
   "outputs": [
    {
     "name": "stdout",
     "output_type": "stream",
     "text": [
      "count    45573.000000\n",
      "mean         0.386707\n",
      "std          0.272132\n",
      "min          0.000000\n",
      "25%          0.166667\n",
      "50%          0.408163\n",
      "75%          0.575758\n",
      "max          1.000000\n",
      "Name: promedio_reorden, dtype: float64\n"
     ]
    },
    {
     "data": {
      "text/plain": [
       "<AxesSubplot:title={'center':'promedio reorden productos'}, ylabel='Frequency'>"
      ]
     },
     "execution_count": 82,
     "metadata": {},
     "output_type": "execute_result"
    },
    {
     "data": {
      "image/png": "[encoded data removed]",
      "text/plain": [
       "<Figure size 640x480 with 1 Axes>"
      ]
     },
     "metadata": {},
     "output_type": "display_data"
    }
   ],
   "source": [
    "opdf_r=opdf.groupby(\"product_id\")[\"reordered\"].mean().reset_index(name=\"promedio_reorden\")\n",
    "print(opdf_r[\"promedio_reorden\"].describe())\n",
    "opdf_r.plot(kind=\"hist\",\n",
    "           x=\"product_id\",\n",
    "           y=\"promedio_reorden\",\n",
    "           title=\"promedio reorden productos\",\n",
    "           xlabel=\"productos\",\n",
    "           ylabel=\"promedio reorden\")"
   ]
  },
  {
   "cell_type": "markdown",
   "id": "I10dEIAyldcO",
   "metadata": {
    "id": "I10dEIAyldcO"
   },
   "source": [
    "Escribe aquí tus conclusiones\n",
    "\n",
    "nos podemos da cuenta que el promedio de la base de datos es de 39% y tenemos una distribución cargada al 0 donde los productos no se vuelven a vender al mismo usuario o se venden de nuevo en un 60%."
   ]
  },
  {
   "cell_type": "markdown",
   "id": "subject-boxing",
   "metadata": {
    "id": "subject-boxing"
   },
   "source": [
    "### [C4] Para cada cliente, ¿qué proporción de sus productos ya los había pedido?"
   ]
  },
  {
   "cell_type": "code",
   "execution_count": 51,
   "id": "medical-couple",
   "metadata": {
    "id": "medical-couple",
    "scrolled": true
   },
   "outputs": [
    {
     "name": "stdout",
     "output_type": "stream",
     "text": [
      "count    149626.000000\n",
      "mean         49.485318\n",
      "std          29.268606\n",
      "min           0.000000\n",
      "25%          27.270000\n",
      "50%          50.000000\n",
      "75%          72.410000\n",
      "max         100.000000\n",
      "Name: %_reorden, dtype: float64\n"
     ]
    }
   ],
   "source": [
    "#traigo la columna de user_id usando .merge() entre order_products y instacart_orders\n",
    "usuarios=opdf.merge(iodf,on=\"order_id\",how=\"left\")\n",
    "\n",
    "#creo un df donde la información se agrupe por user_id\n",
    "usuarios_ord = usuarios.groupby(\"user_id\").agg(\n",
    "    productos_comprados=('product_id', 'count'),\n",
    "    productos_reordenados=('reordered', 'sum'),\n",
    "        \n",
    ").reset_index()\n",
    "#creo la columna con el coeficiente de reorden\n",
    "usuarios_ord[\"%_reorden\"]=((usuarios_ord[\"productos_reordenados\"]/usuarios_ord[\"productos_comprados\"])*100).round(2)\n",
    "print(usuarios_ord[\"%_reorden\"].describe())"
   ]
  },
  {
   "cell_type": "code",
   "execution_count": 52,
   "id": "8892e4b4",
   "metadata": {
    "id": "8892e4b4"
   },
   "outputs": [
    {
     "name": "stdout",
     "output_type": "stream",
     "text": [
      "   user_id  productos_comprados  productos_reordenados  %_reorden\n",
      "0        2                   26                      1       3.85\n",
      "1        4                    2                      0       0.00\n",
      "2        5                   12                      8      66.67\n",
      "3        6                    4                      0       0.00\n",
      "4        7                   14                     13      92.86\n"
     ]
    }
   ],
   "source": [
    "print(usuarios_ord.head())"
   ]
  },
  {
   "cell_type": "code",
   "execution_count": 53,
   "id": "4663ea6b-0842-4dba-83ee-2cd50d3f7964",
   "metadata": {},
   "outputs": [
    {
     "data": {
      "image/png": "[encoded data removed]",
      "text/plain": [
       "<Figure size 640x480 with 1 Axes>"
      ]
     },
     "metadata": {},
     "output_type": "display_data"
    }
   ],
   "source": [
    "#creamos una grafica de dispersion para comprender el comportamiento de compras de los usuarios\n",
    "\n",
    "plt.scatter(usuarios_ord['productos_comprados'], usuarios_ord['%_reorden'])\n",
    "plt.xlabel('Productos comprados')\n",
    "plt.ylabel('% de reorden')\n",
    "plt.title('Relación entre productos comprados y % de reorden')\n",
    "plt.grid(True)\n",
    "plt.tight_layout()\n",
    "\n",
    "plt.show()"
   ]
  },
  {
   "cell_type": "raw",
   "id": "7f500e8b-a0af-4705-8aab-471a6fd50cc3",
   "metadata": {},
   "source": []
  },
  {
   "cell_type": "code",
   "execution_count": 107,
   "id": "c801ef53-6e48-476c-a670-c01aa332d968",
   "metadata": {},
   "outputs": [
    {
     "data": {
      "text/plain": [
       "<AxesSubplot:title={'center':'porcentaje reorden'}, ylabel='Frequency'>"
      ]
     },
     "execution_count": 107,
     "metadata": {},
     "output_type": "execute_result"
    },
    {
     "data": {
      "image/png": "[encoded data removed]",
      "text/plain": [
       "<Figure size 640x480 with 1 Axes>"
      ]
     },
     "metadata": {},
     "output_type": "display_data"
    }
   ],
   "source": [
    "usuarios_ord.plot(kind=\"hist\",\n",
    "                  y='%_reorden',\n",
    "                 ylabel=\"% reorden\",\n",
    "                 title=\"porcentaje reorden\")"
   ]
  },
  {
   "cell_type": "markdown",
   "id": "BgJSvXDsleXz",
   "metadata": {
    "id": "BgJSvXDsleXz"
   },
   "source": [
    "Escribe aquí tus conclusiones\n",
    "\n",
    "podemos darnos cuenta que las ordenes de productos de los usarios consisten en un 49% de productos reordenados dentro de su total de compras lo cual nos dice que tenemos un buen indice de lealtad de consumo. en la grafica de dispersion nos muestra que el porcentaje de reorden no está extrictamente relacionado con la cantidad de productos ordenados teniendo asi un numero grande de usuarios con pocas compras pero con un consumo recurrente de los mismos productos. "
   ]
  },
  {
   "cell_type": "markdown",
   "id": "92d35137",
   "metadata": {
    "id": "92d35137"
   },
   "source": [
    "### [C5] ¿Cuáles son los 20 principales artículos que las personas ponen primero en sus carritos?"
   ]
  },
  {
   "cell_type": "code",
   "execution_count": 97,
   "id": "4fe7e0ad-030b-42c4-b52f-bd7f39809f23",
   "metadata": {},
   "outputs": [
    {
     "name": "stdout",
     "output_type": "stream",
     "text": [
      "    product_id                 product_name  score\n",
      "0        24852                       BANANA  15562\n",
      "1        13176       BAG OF ORGANIC BANANAS  11026\n",
      "2        27845           ORGANIC WHOLE MILK   4363\n",
      "3        21137         ORGANIC STRAWBERRIES   3946\n",
      "4        47209         ORGANIC HASS AVOCADO   3390\n",
      "5        21903         ORGANIC BABY SPINACH   3336\n",
      "6        47766              ORGANIC AVOCADO   3044\n",
      "7        19660                 SPRING WATER   2336\n",
      "8        16797                 STRAWBERRIES   2308\n",
      "9        27966          ORGANIC RASPBERRIES   2024\n",
      "10       44632   SPARKLING WATER GRAPEFRUIT   1914\n",
      "11       49235          ORGANIC HALF & HALF   1797\n",
      "12       47626                  LARGE LEMON   1737\n",
      "13         196                         SODA   1733\n",
      "14       38689     ORGANIC REDUCED FAT MILK   1397\n",
      "15       26209                        LIMES   1370\n",
      "16       12341                HASS AVOCADOS   1340\n",
      "17        5785  ORGANIC REDUCED FAT 2% MILK   1310\n",
      "18       27086                  HALF & HALF   1309\n",
      "19       43352                  RASPBERRIES   1246\n"
     ]
    }
   ],
   "source": [
    "cart_1=opdf.query(\"add_to_cart_order==1\")\n",
    "products_rank=cart_1.groupby(by=\"product_id\")['add_to_cart_order'].sum().reset_index(name=\"score\")\n",
    "products_rank=products_rank.sort_values(by=\"score\",ascending=False)\n",
    "products_rank=products_rank.head(20).reset_index().drop(\"index\",axis=1)\n",
    "products_final=products_rank.merge(pdf,on=\"product_id\",how=\"left\")\n",
    "products_final=products_final.drop([\"aisle_id\",\"department_id\"],axis=1)\n",
    "products_final=products_final[[\"product_id\",\"product_name\",\"score\"]]\n",
    "print(products_final)"
   ]
  },
  {
   "cell_type": "markdown",
   "id": "28ce9872",
   "metadata": {
    "id": "28ce9872"
   },
   "source": [
    "Escribe aquí tus conclusiones\n",
    "\n",
    "podemos darnos cuenta de la prevalencia de productos organicos en casi todos los toips de productos basados en distintos parámetros lo que nos confirma una aceptacion por parte del mercado"
   ]
  },
  {
   "cell_type": "markdown",
   "id": "uITbFCEoDosC",
   "metadata": {
    "id": "uITbFCEoDosC"
   },
   "source": [
    "### Conclusion general del proyecto:"
   ]
  },
  {
   "cell_type": "code",
   "execution_count": 56,
   "id": "Nk-4GS7mDwqY",
   "metadata": {
    "id": "Nk-4GS7mDwqY"
   },
   "outputs": [
    {
     "data": {
      "text/plain": [
       "'El análisis de los datos de órdenes y productos revela patrones consistentes en el comportamiento de los consumidores. Las compras se concentran principalmente entre las 9:00 a.m. y las 3:00 p.m., sin variaciones significativas entre los distintos días de la semana. No obstante, los días domingo y lunes presentan el mayor volumen de consumo, lo cual sugiere una tendencia a realizar pedidos al inicio de la semana, posiblemente como parte de la planificación semanal del hogar. En cuanto a la frecuencia de compra, la mayoría de los usuarios realiza entre una y cinco órdenes, lo que indica una base de clientes con participación activa pero no excesiva. Los productos más vendidos están claramente orientados al consumo de alimentos saludables, con una fuerte presencia de productos orgánicos como frutas, vegetales y lácteos, lo cual refleja una tendencia hacia hábitos de consumo más conscientes. El tamaño de las órdenes es moderado, con la mayoría de los pedidos incluyendo entre uno y diez productos. A esto se suma el hallazgo de que una gran parte de las compras corresponde a reordenes, es decir, productos que los clientes ya han adquirido en ocasiones anteriores. Este comportamiento señala un alto nivel de fidelidad hacia ciertos productos y reafirma la importancia de ofrecer una experiencia de compra que facilite la repetición de órdenes previas. Por último, se identificó una relación relevante entre los productos más vendidos y su posición en el carrito de compras. Los artículos con mayor volumen de ventas tienden a ser los primeros en ser añadidos, lo que sugiere una alta recordación o preferencia por parte de los usuarios. En conjunto, estos hallazgos permiten concluir que el perfil del consumidor es el de un cliente recurrente, con hábitos estables, que valora la calidad y salud en sus decisiones de compra, y que mantiene un comportamiento de consumo predecible tanto en horarios como en preferencias de productos.'"
      ]
     },
     "execution_count": 56,
     "metadata": {},
     "output_type": "execute_result"
    }
   ],
   "source": [
    "\"\"\"El análisis de los datos de órdenes y productos revela patrones consistentes en el comportamiento de los consumidores. Las compras se concentran principalmente entre las 9:00 a.m. y las 3:00 p.m., sin variaciones significativas entre los distintos días de la semana. No obstante, los días domingo y lunes presentan el mayor volumen de consumo, lo cual sugiere una tendencia a realizar pedidos al inicio de la semana, posiblemente como parte de la planificación semanal del hogar. En cuanto a la frecuencia de compra, la mayoría de los usuarios realiza entre una y cinco órdenes, lo que indica una base de clientes con participación activa pero no excesiva. Los productos más vendidos están claramente orientados al consumo de alimentos saludables, con una fuerte presencia de productos orgánicos como frutas, vegetales y lácteos, lo cual refleja una tendencia hacia hábitos de consumo más conscientes. El tamaño de las órdenes es moderado, con la mayoría de los pedidos incluyendo entre uno y diez productos. A esto se suma el hallazgo de que una gran parte de las compras corresponde a reordenes, es decir, productos que los clientes ya han adquirido en ocasiones anteriores. Este comportamiento señala un alto nivel de fidelidad hacia ciertos productos y reafirma la importancia de ofrecer una experiencia de compra que facilite la repetición de órdenes previas. Por último, se identificó una relación relevante entre los productos más vendidos y su posición en el carrito de compras. Los artículos con mayor volumen de ventas tienden a ser los primeros en ser añadidos, lo que sugiere una alta recordación o preferencia por parte de los usuarios. En conjunto, estos hallazgos permiten concluir que el perfil del consumidor es el de un cliente recurrente, con hábitos estables, que valora la calidad y salud en sus decisiones de compra, y que mantiene un comportamiento de consumo predecible tanto en horarios como en preferencias de productos.\"\"\""
   ]
  }
 ],
 "metadata": {
  "colab": {
   "provenance": [
    {
     "file_id": "1aLGZ19-GYem3LZdYHuzuwYIeSw_tr0AT",
     "timestamp": 1689682143157
    }
   ]
  },
  "kernelspec": {
   "display_name": "Python 3 (ipykernel)",
   "language": "python",
   "name": "python3"
  },
  "language_info": {
   "codemirror_mode": {
    "name": "ipython",
    "version": 3
   },
   "file_extension": ".py",
   "mimetype": "text/x-python",
   "name": "python",
   "nbconvert_exporter": "python",
   "pygments_lexer": "ipython3",
   "version": "3.9.23"
  },
  "vscode": {
   "interpreter": {
    "hash": "01a7be9ec63e704a62cefc5fe7a4756944464ee731be31632bdf42a4cb4688cf"
   }
  }
 },
 "nbformat": 4,
 "nbformat_minor": 5
}
